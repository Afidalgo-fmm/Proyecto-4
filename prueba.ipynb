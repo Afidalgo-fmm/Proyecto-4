{
 "cells": [
  {
   "cell_type": "code",
   "execution_count": 17,
   "id": "e5068370",
   "metadata": {},
   "outputs": [],
   "source": [
    "import os\n",
    "import pandas as pd\n",
    "from pymongo import MongoClient"
   ]
  },
  {
   "cell_type": "code",
   "execution_count": 30,
   "id": "5da42f9b",
   "metadata": {
    "scrolled": true
   },
   "outputs": [
    {
     "data": {
      "text/plain": [
       "Collection(Database(MongoClient(host=['localhost:27017'], document_class=dict, tz_aware=False, connect=True), 'ironhack'), 'proyecto')"
      ]
     },
     "execution_count": 30,
     "metadata": {},
     "output_type": "execute_result"
    }
   ],
   "source": [
    "client = MongoClient(\"localhost:27017\")\n",
    "db = client.get_database(\"ironhack\")\n",
    "c = db.get_collection('proyecto')\n",
    "c"
   ]
  },
  {
   "cell_type": "code",
   "execution_count": 31,
   "id": "3461aea5",
   "metadata": {},
   "outputs": [
    {
     "name": "stdout",
     "output_type": "stream",
     "text": [
      "None\n"
     ]
    }
   ],
   "source": [
    "projfrases = {'_id':0, 'character': 1, 'line': 1}\n",
    "def todas_frases(nombre):\n",
    "    query = {\"character_name\": f\"{nombre}\"}\n",
    "    frases = list(c.find(query,projfrases)) \n",
    "print(todas_frases('Morty'))"
   ]
  },
  {
   "cell_type": "code",
   "execution_count": 32,
   "id": "9ef76275",
   "metadata": {},
   "outputs": [],
   "source": [
    "df = pd.DataFrame(list(c.find({})))"
   ]
  },
  {
   "cell_type": "code",
   "execution_count": 33,
   "id": "3c23d562",
   "metadata": {},
   "outputs": [
    {
     "name": "stdout",
     "output_type": "stream",
     "text": [
      "<class 'pandas.core.frame.DataFrame'>\n",
      "Index: 0 entries\n",
      "Empty DataFrame"
     ]
    }
   ],
   "source": [
    "df.info()"
   ]
  },
  {
   "cell_type": "code",
   "execution_count": 16,
   "id": "5950fc29",
   "metadata": {},
   "outputs": [
    {
     "name": "stdout",
     "output_type": "stream",
     "text": [
      "working directory is  /Users/alvaro/Downloads/IronHack/4-Proyecto\n",
      "This script file path is  Data.csv\n",
      "This script absolute path is  /Users/alvaro/Downloads/IronHack/4-Proyecto/Data.csv\n",
      "Script file path is /Users/alvaro/Downloads/IronHack/4-Proyecto, filename is Data.csv\n"
     ]
    }
   ],
   "source": [
    "import os\n",
    "\n",
    "wd = os.getcwd()\n",
    "print(\"working directory is \", wd)\n",
    "\n",
    "filePath = 'Data.csv'\n",
    "print(\"This script file path is \", filePath)\n",
    "\n",
    "absFilePath = os.path.abspath('Data.csv')\n",
    "print(\"This script absolute path is \", absFilePath)\n",
    "\n",
    "path, filename = os.path.split(absFilePath)\n",
    "print(\"Script file path is {}, filename is {}\".format(path, filename))"
   ]
  },
  {
   "cell_type": "code",
   "execution_count": 27,
   "id": "438ed845",
   "metadata": {},
   "outputs": [],
   "source": [
    "df = pd.read_csv('/Users/alvaro/Downloads/IronHack/4-Proyecto/datos/Data.csv')"
   ]
  },
  {
   "cell_type": "code",
   "execution_count": null,
   "id": "058da8d0",
   "metadata": {},
   "outputs": [],
   "source": []
  }
 ],
 "metadata": {
  "kernelspec": {
   "display_name": "Python 3",
   "language": "python",
   "name": "python3"
  },
  "language_info": {
   "codemirror_mode": {
    "name": "ipython",
    "version": 3
   },
   "file_extension": ".py",
   "mimetype": "text/x-python",
   "name": "python",
   "nbconvert_exporter": "python",
   "pygments_lexer": "ipython3",
   "version": "3.8.8"
  }
 },
 "nbformat": 4,
 "nbformat_minor": 5
}
