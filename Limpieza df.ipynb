{
 "cells": [
  {
   "cell_type": "code",
   "execution_count": 2,
   "id": "ec51a506",
   "metadata": {},
   "outputs": [],
   "source": [
    "import pandas as pd\n",
    "import numpy as np\n"
   ]
  },
  {
   "cell_type": "code",
   "execution_count": 3,
   "id": "e1445358",
   "metadata": {},
   "outputs": [
    {
     "data": {
      "text/html": [
       "<div>\n",
       "<style scoped>\n",
       "    .dataframe tbody tr th:only-of-type {\n",
       "        vertical-align: middle;\n",
       "    }\n",
       "\n",
       "    .dataframe tbody tr th {\n",
       "        vertical-align: top;\n",
       "    }\n",
       "\n",
       "    .dataframe thead th {\n",
       "        text-align: right;\n",
       "    }\n",
       "</style>\n",
       "<table border=\"1\" class=\"dataframe\">\n",
       "  <thead>\n",
       "    <tr style=\"text-align: right;\">\n",
       "      <th></th>\n",
       "      <th>index</th>\n",
       "      <th>season no.</th>\n",
       "      <th>episode no.</th>\n",
       "      <th>episode name</th>\n",
       "      <th>name</th>\n",
       "      <th>line</th>\n",
       "    </tr>\n",
       "  </thead>\n",
       "  <tbody>\n",
       "    <tr>\n",
       "      <th>0</th>\n",
       "      <td>0</td>\n",
       "      <td>1</td>\n",
       "      <td>1</td>\n",
       "      <td>Pilot</td>\n",
       "      <td>Rick</td>\n",
       "      <td>Morty! You gotta come on. Jus'... you gotta co...</td>\n",
       "    </tr>\n",
       "    <tr>\n",
       "      <th>1</th>\n",
       "      <td>1</td>\n",
       "      <td>1</td>\n",
       "      <td>1</td>\n",
       "      <td>Pilot</td>\n",
       "      <td>Morty</td>\n",
       "      <td>What, Rick? What’s going on?</td>\n",
       "    </tr>\n",
       "    <tr>\n",
       "      <th>2</th>\n",
       "      <td>2</td>\n",
       "      <td>1</td>\n",
       "      <td>1</td>\n",
       "      <td>Pilot</td>\n",
       "      <td>Rick</td>\n",
       "      <td>I got a surprise for you, Morty.</td>\n",
       "    </tr>\n",
       "    <tr>\n",
       "      <th>3</th>\n",
       "      <td>3</td>\n",
       "      <td>1</td>\n",
       "      <td>1</td>\n",
       "      <td>Pilot</td>\n",
       "      <td>Morty</td>\n",
       "      <td>It's the middle of the night. What are you tal...</td>\n",
       "    </tr>\n",
       "    <tr>\n",
       "      <th>4</th>\n",
       "      <td>4</td>\n",
       "      <td>1</td>\n",
       "      <td>1</td>\n",
       "      <td>Pilot</td>\n",
       "      <td>Rick</td>\n",
       "      <td>Come on, I got a surprise for you.  Come on, h...</td>\n",
       "    </tr>\n",
       "  </tbody>\n",
       "</table>\n",
       "</div>"
      ],
      "text/plain": [
       "   index  season no.  episode no. episode name   name  \\\n",
       "0      0           1            1        Pilot   Rick   \n",
       "1      1           1            1        Pilot  Morty   \n",
       "2      2           1            1        Pilot   Rick   \n",
       "3      3           1            1        Pilot  Morty   \n",
       "4      4           1            1        Pilot   Rick   \n",
       "\n",
       "                                                line  \n",
       "0  Morty! You gotta come on. Jus'... you gotta co...  \n",
       "1                       What, Rick? What’s going on?  \n",
       "2                   I got a surprise for you, Morty.  \n",
       "3  It's the middle of the night. What are you tal...  \n",
       "4  Come on, I got a surprise for you.  Come on, h...  "
      ]
     },
     "execution_count": 3,
     "metadata": {},
     "output_type": "execute_result"
    }
   ],
   "source": [
    "df = pd.read_csv(\"data/RickAndMortyScripts.csv\")\n",
    "df.head()"
   ]
  },
  {
   "cell_type": "code",
   "execution_count": 4,
   "id": "802e9e25",
   "metadata": {},
   "outputs": [
    {
     "data": {
      "text/plain": [
       "array(['Pilot', 'Lawnmower Dog', 'Rick Potion 9', 'A Rickle in Time',\n",
       "       'The Wedding Squanchers', 'Get Schwifty',\n",
       "       'Interdimensional Cable 2  Tempting Fate',\n",
       "       'The Rickshank Rickdemption', 'Pickle Rick',\n",
       "       'Vindicators 3  The Return of Worldender',\n",
       "       'Tales From the Citadel'], dtype=object)"
      ]
     },
     "execution_count": 4,
     "metadata": {},
     "output_type": "execute_result"
    }
   ],
   "source": [
    "df['episode name'].unique()"
   ]
  },
  {
   "cell_type": "code",
   "execution_count": 5,
   "id": "88a76cb9",
   "metadata": {},
   "outputs": [],
   "source": [
    "df.rename(columns = {'season no.': 'Season', 'episode no.': 'Epi_number', 'episode name': 'Epi_name', 'name': 'character'}, inplace = True)\n",
    "df.drop(columns = 'index', inplace = True)"
   ]
  },
  {
   "cell_type": "code",
   "execution_count": 6,
   "id": "51315661",
   "metadata": {},
   "outputs": [
    {
     "name": "stdout",
     "output_type": "stream",
     "text": [
      "<class 'pandas.core.frame.DataFrame'>\n",
      "RangeIndex: 1905 entries, 0 to 1904\n",
      "Data columns (total 5 columns):\n",
      " #   Column      Non-Null Count  Dtype \n",
      "---  ------      --------------  ----- \n",
      " 0   Season      1905 non-null   int64 \n",
      " 1   Epi_number  1905 non-null   int64 \n",
      " 2   Epi_name    1905 non-null   object\n",
      " 3   character   1905 non-null   object\n",
      " 4   line        1905 non-null   object\n",
      "dtypes: int64(2), object(3)\n",
      "memory usage: 74.5+ KB\n"
     ]
    }
   ],
   "source": [
    "df.info()"
   ]
  },
  {
   "cell_type": "code",
   "execution_count": 7,
   "id": "8d854043",
   "metadata": {},
   "outputs": [
    {
     "data": {
      "text/plain": [
       "Rick                      420\n",
       "Morty                     347\n",
       "Beth                      148\n",
       "Jerry                     132\n",
       "Summer                     97\n",
       "Pickle Rick                77\n",
       "Supernova                  44\n",
       "Cop Morty                  34\n",
       "All Ricks                  32\n",
       "Mr. Goldenfold             28\n",
       "President                  27\n",
       "Testicle Monster A         26\n",
       "Cop Rick                   26\n",
       "Principal Vagina           25\n",
       "Snuffles                   22\n",
       "Cornvelious Daniel         22\n",
       "Drunk Rick                 21\n",
       "Dr. Wong                   21\n",
       "Agency Director            20\n",
       "Alan                       19\n",
       "Candidate Morty            18\n",
       "Scary Terry                17\n",
       "Vance                      17\n",
       "Jessica                    16\n",
       "Million Ants               15\n",
       "All Mortys                 15\n",
       "Ice-T                      13\n",
       "Riq IV                     13\n",
       "All Summers                13\n",
       "Morty 2                    13\n",
       "Campaign Manager Morty     12\n",
       "Alien Doctor               12\n",
       "Lizard Morty               11\n",
       "Cromulon                   10\n",
       "Slick                      10\n",
       "Brad                       10\n",
       "Nathan                     10\n",
       "Glasses Morty               9\n",
       "Young Rick                  9\n",
       "Birdperson                  9\n",
       "Rick J-22                   9\n",
       "Vet                         9\n",
       "Narrator                    8\n",
       "Teacher Rick                8\n",
       "Announcer                   8\n",
       "Morty 1                     8\n",
       "Mrs. Pancakes               8\n",
       "Summer 1                    7\n",
       "Name: character, dtype: int64"
      ]
     },
     "execution_count": 7,
     "metadata": {},
     "output_type": "execute_result"
    }
   ],
   "source": [
    "df.character.value_counts()"
   ]
  },
  {
   "cell_type": "code",
   "execution_count": 8,
   "id": "7d1b2fe8",
   "metadata": {},
   "outputs": [],
   "source": [
    "df.character.replace({\"Morty 1\": \"Morty\", \"Morty 2\": \"Morty\", \"Summer 1\": \"Summer\"}, inplace = True)"
   ]
  },
  {
   "cell_type": "code",
   "execution_count": 10,
   "id": "5062fcd9",
   "metadata": {},
   "outputs": [
    {
     "data": {
      "text/plain": [
       "array(['Pilot', 'Lawnmower Dog', 'Rick Potion 9', 'A Rickle in Time',\n",
       "       'The Wedding Squanchers', 'Get Schwifty',\n",
       "       'Interdimensional Cable 2  Tempting Fate',\n",
       "       'The Rickshank Rickdemption', 'Pickle Rick',\n",
       "       'Vindicators 3  The Return of Worldender',\n",
       "       'Tales From the Citadel'], dtype=object)"
      ]
     },
     "execution_count": 10,
     "metadata": {},
     "output_type": "execute_result"
    }
   ],
   "source": [
    "df.Epi_name.unique()"
   ]
  },
  {
   "cell_type": "code",
   "execution_count": 14,
   "id": "b9246770",
   "metadata": {},
   "outputs": [
    {
     "data": {
      "text/plain": [
       "Index(['Season', 'Epi_number', 'Epi_name', 'character', 'line'], dtype='object')"
      ]
     },
     "execution_count": 14,
     "metadata": {},
     "output_type": "execute_result"
    }
   ],
   "source": [
    "df.columns"
   ]
  },
  {
   "cell_type": "code",
   "execution_count": null,
   "id": "a150383a",
   "metadata": {},
   "outputs": [],
   "source": []
  }
 ],
 "metadata": {
  "kernelspec": {
   "display_name": "Python 3",
   "language": "python",
   "name": "python3"
  },
  "language_info": {
   "codemirror_mode": {
    "name": "ipython",
    "version": 3
   },
   "file_extension": ".py",
   "mimetype": "text/x-python",
   "name": "python",
   "nbconvert_exporter": "python",
   "pygments_lexer": "ipython3",
   "version": "3.8.8"
  }
 },
 "nbformat": 4,
 "nbformat_minor": 5
}
